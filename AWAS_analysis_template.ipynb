{
 "cells": [
  {
   "cell_type": "code",
   "execution_count": null,
   "id": "6594dede",
   "metadata": {},
   "outputs": [],
   "source": [
    "import re, os\n",
    "import DECODE_function as AWAS\n",
    "\n",
    "#exe and database\n",
    "Fastq2Pep_exe=r\"Path_of_Fastq2Pep.exe\"\n",
    "AWAS_exe_cuda=r\"Path_of_AWAS_analysis.exe\"\n",
    "Codon=r\"./codon.csv\"\n",
    "Barcode=r\"./Barcode/Barcodelist(directory)\"\n",
    "P_MAP_mouse=r\"Path_of_P-MAP\"\n",
    "#P_MAP_human=r\"Path_of_P-MAP\""
   ]
  },
  {
   "cell_type": "code",
   "execution_count": null,
   "id": "5b7a28f5",
   "metadata": {},
   "outputs": [],
   "source": [
    "# Input FASTQ folder and results folders\n",
    "FP_fastq = r\"C:\\NGS_rawdata\\samplename\"  # Folder containing FASTQ files (after decompression)\n",
    "FP_Pep = r\"C:\\DECODE_narumi\\Peptide\\samplename\"  # Output folder for peptides, subfolders will be created for each barcode\n",
    "AWAS_OUT = r\"C:\\DECODE_narumi\\AWAS\\samplename\"  # Raw AWAS data output folder\n",
    "AWAS_Result = r\"C:\\DECODE_narumi\\Result\\samplename\"  # Folder for graphs and other results\n"
   ]
  },
  {
   "cell_type": "markdown",
   "id": "c44c8490",
   "metadata": {},
   "source": [
    "# Fastq to peptide"
   ]
  },
  {
   "cell_type": "code",
   "execution_count": null,
   "id": "c7307b57",
   "metadata": {},
   "outputs": [],
   "source": [
    "AWAS.Fastq2Pep(Fastq2Pep_exe,FP_fastq,FP_Pep,Codon,Barcode)"
   ]
  },
  {
   "cell_type": "markdown",
   "id": "bee25559",
   "metadata": {},
   "source": [
    "# Peptide matching with map"
   ]
  },
  {
   "cell_type": "code",
   "execution_count": null,
   "id": "75e6d891",
   "metadata": {
    "scrolled": true
   },
   "outputs": [],
   "source": [
    "AWAS.AWASanalysis(AWAS_exe_cuda,FP_Pep,AWAS_OUT,P_MAP_mouse)"
   ]
  },
  {
   "cell_type": "markdown",
   "id": "f212169b-ac14-4380-bd62-3a36b370fec9",
   "metadata": {},
   "source": [
    "# MakePlot and csv"
   ]
  },
  {
   "cell_type": "code",
   "execution_count": null,
   "id": "4e404d96",
   "metadata": {},
   "outputs": [],
   "source": [
    "%matplotlib inline\n",
    "import os, re, csv, time,struct\n",
    "from lttb import largest_triangle_three_buckets\n",
    "import numpy as np\n",
    "import pandas as pd\n",
    "from scipy import  misc\n",
    "from scipy import signal\n",
    "import matplotlib.pyplot as plt\n",
    "from PIL import Image\n",
    "from scipy import stats\n",
    "import scipy.stats as st"
   ]
  },
  {
   "cell_type": "code",
   "execution_count": null,
   "id": "e488021d",
   "metadata": {
    "scrolled": true
   },
   "outputs": [],
   "source": [
    "FPr=AWAS_OUT\n",
    "FPw=AWAS_Result\n",
    "targetID =1283#mouse NeuN\n",
    "targetID_list=[19083,7909,7063,8788,18352,12959]\n",
    "bs=[\"101\",\"113\",\"125\",\"137\",\"149\",\"161\"]#NGS bardoe number\n",
    "flist=[]\n",
    "figureinfo=[10,15,7,20,0,0,6,5]\n",
    "i=1;\n",
    "for d in os.listdir(FPr):\n",
    "    for f in os.listdir(FPr+\"\\\\\"+d):\n",
    "        if(f[-3:]==\"bin\"):\n",
    "            if(f[0:3] == bs[i]):\n",
    "                dft=AWAS.MakePlot_Target(FPr+\"\\\\\"+d,FPw,f,targetID_list[i],50,\"distance\",0,2,figureinfo,12)\n",
    "                i+=1\n",
    "                #Barcode=pd.read_csv(FPr+\"\\\\barcode.csv\", header=None)\n"
   ]
  },
  {
   "cell_type": "code",
   "execution_count": null,
   "id": "d65bc1ef",
   "metadata": {},
   "outputs": [],
   "source": []
  }
 ],
 "metadata": {
  "kernelspec": {
   "display_name": "Python 3 (ipykernel)",
   "language": "python",
   "name": "python3"
  },
  "language_info": {
   "codemirror_mode": {
    "name": "ipython",
    "version": 3
   },
   "file_extension": ".py",
   "mimetype": "text/x-python",
   "name": "python",
   "nbconvert_exporter": "python",
   "pygments_lexer": "ipython3",
   "version": "3.11.0"
  }
 },
 "nbformat": 4,
 "nbformat_minor": 5
}
