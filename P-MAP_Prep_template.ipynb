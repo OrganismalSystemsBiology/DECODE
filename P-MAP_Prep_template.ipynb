{
 "cells": [
  {
   "cell_type": "code",
   "execution_count": null,
   "metadata": {},
   "outputs": [],
   "source": [
    "import numpy as np\n",
    "import cupy as cp\n",
    "from Bio import SeqIO\n",
    "import os, datetime\n",
    "import matplotlib.pyplot as plt\n",
    "%matplotlib inline\n",
    "\n",
    "AA = \"ARNDCQEGHILKMFPSTWYV*\"\n",
    "#FP_AAvsAA_MAP='./WAC.csv'\n",
    "FP_AAvsAA_MAP='./BLOSUM62.csv'\n",
    "LibraryType='./codon_num.csv'\n",
    "uniprot = \"input_uniprot\\Protein_library\\Human_reviewed\"\n",
    "output = 'output_path'\n"
   ]
  },
  {
   "cell_type": "code",
   "execution_count": null,
   "metadata": {},
   "outputs": [],
   "source": [
    "#import library codon type\n",
    "nnk = np.loadtxt(LibraryType, delimiter=',', dtype=np.str)\n",
    "nnk = nnk[4,1:].astype(np.float)\n",
    "nnk /= nnk.sum()"
   ]
  },
  {
   "cell_type": "code",
   "execution_count": null,
   "metadata": {},
   "outputs": [],
   "source": [
    "#import score map \n",
    "AAvsAA_MAP = np.zeros((21,21), dtype=np.int)\n",
    "AAvsAA_MAP[:-1,:-1] = np.loadtxt(FP_AAvsAA_MAP, delimiter=',', dtype=np.int)\n",
    "AAvsAA_MAP[AAvsAA_MAP < 0] = 0\n",
    "L=np.min(AAvsAA_MAP)\n",
    "H = np.max(AAvsAA_MAP)"
   ]
  },
  {
   "cell_type": "code",
   "execution_count": null,
   "metadata": {
    "scrolled": true
   },
   "outputs": [],
   "source": [
    "def get_atos(codons: np.array, matrix: np.array) -> np.array:\n",
    "    # Input\n",
    "    # codons: np.array - Occurrence frequency of each amino acid based on codon_num.csb\n",
    "    # matrix: np.array - Similarity table for amino acids\n",
    "    # ------------------------------------------------------\n",
    "    # Output\n",
    "    # atos: np.array - A matrix where the amino acid types are along axis=0, and the probability distribution of scores for each amino acid is along axis=1\n",
    "    atos = np.zeros((len(codons), H - L + 1))\n",
    "    for i in range(len(codons)):\n",
    "        for j in range(matrix.shape[0]):\n",
    "            atos[i, matrix[i, j]] += codons[j]\n",
    "    return atos\n",
    "\n",
    "def get_atos_cupy(codons: cp.array, matrix: cp.array) -> cp.array:\n",
    "    # Input\n",
    "    # codons: cp.array - Occurrence frequency of each amino acid based on codon_num.csb\n",
    "    # matrix: cp.array - Similarity table for amino acids\n",
    "    # ------------------------------------------------------\n",
    "    # Output\n",
    "    # atos: cp.array - A matrix where the amino acid types are along axis=0, and the probability distribution of scores for each amino acid is along axis=1\n",
    "    atos = cp.zeros((len(codons), H - L + 1))\n",
    "    for i in range(len(codons)):\n",
    "        for j in range(matrix.shape[0]):\n",
    "            atos[i, matrix[i, j]] += codons[j]\n",
    "    return atos\n",
    "\n",
    "def fasta_to_index(file_name: str) -> np.array:\n",
    "    # Input\n",
    "    # file_name: str - Path to the fasta file\n",
    "    # Output\n",
    "    # out: list - Converts the peptides in the fasta file into amino acid indices based on AA\n",
    "    out = []\n",
    "    with open(file_name, \"r\") as f:\n",
    "        for seq_record in SeqIO.parse(f, \"fasta\"):\n",
    "            try:\n",
    "                # print(seq_record.description)\n",
    "                ind = np.array([AA.index(s) for s in list(seq_record.seq)], dtype=np.int8)\n",
    "                out.append((seq_record.id, ind, seq_record.description))\n",
    "            except ValueError:\n",
    "                print(\"Invalid character found in {}\".format(seq_record.id))\n",
    "                continue\n",
    "    print(out)\n",
    "    return out\n",
    "\n",
    "def fasta_to_index_cupy(file_name: str) -> cp.array:\n",
    "    # Input\n",
    "    # file_name: str - Path to the fasta file\n",
    "    # Output\n",
    "    # out: list - Converts the peptides in the fasta file into amino acid indices based on AA\n",
    "    out = []\n",
    "    with open(file_name, \"r\") as f:\n",
    "        for seq_record in SeqIO.parse(f, \"fasta\"):\n",
    "            try:\n",
    "                # print(seq_record.description)\n",
    "                ind = cp.array([AA.index(s) for s in list(seq_record.seq)], dtype=cp.int8)\n",
    "                out.append((seq_record.id, ind, seq_record.description))\n",
    "            except ValueError:\n",
    "                print(\"Invalid character found in {}\".format(seq_record.id))\n",
    "                continue\n",
    "    print(out)\n",
    "    return out\n",
    "\n",
    "def prep_numpy(uniprot, atos, output):\n",
    "    st = datetime.datetime.now()\n",
    "    print('Start:', st)\n",
    "    num = 0\n",
    "    Pmap = []\n",
    "    # Create output directory\n",
    "    if not os.path.exists(output):\n",
    "        os.mkdir(output)\n",
    "    for file in os.listdir(uniprot):\n",
    "        # Read fasta\n",
    "        try:\n",
    "            Index = fasta_to_index('{}/{}'.format(uniprot, file))\n",
    "        # If a character not included in AA is found, raise an error\n",
    "        except ValueError:\n",
    "            print(\"Invalid character found in {}\".format(file))\n",
    "            continue    \n",
    "\n",
    "        for n in Index:\n",
    "            if (num % 100 == 0):\n",
    "                print(num)\n",
    "            num += 1\n",
    "            try:\n",
    "                # Initialize the matrix to be saved in the CSV\n",
    "                out = np.zeros((len(n[1]) - 11, (atos.shape[1] - 1) * 12 + 1))\n",
    "            except ValueError:\n",
    "                # Raise an error if the length is less than 12\n",
    "                print(\"Peptide length of {} is too short\".format(file))\n",
    "                continue\n",
    "            for i in range(len(n[1]) - 11):\n",
    "                current_atos = atos[n[1][i:i + 12]]\n",
    "                current_score = 1\n",
    "                for j in range(current_atos.shape[0]):\n",
    "                    current_score = np.convolve(current_score, current_atos[j])\n",
    "                out[i] = current_score\n",
    "            # print(out)\n",
    "            Pmap.append((n[0], out))\n",
    "    for n in range(len(Pmap)):\n",
    "        np.savetxt(output + \"/{:0=6}.csv\".format(n), Pmap[n][1], fmt='%f', delimiter=',')\n",
    "\n",
    "    et = datetime.datetime.now()\n",
    "    print('End:', et)\n",
    "    print('Time:', et - st)\n"
   ]
  },
  {
   "cell_type": "code",
   "execution_count": null,
   "metadata": {},
   "outputs": [],
   "source": [
    "atos = get_atos(nnk, AAvsAA_MAP)\n",
    "atos_c = get_atos_cupy(nnk, AAvsAA_MAP)"
   ]
  },
  {
   "cell_type": "code",
   "execution_count": null,
   "metadata": {
    "scrolled": true
   },
   "outputs": [],
   "source": [
    "prep_numpy(uniprot, atos, output)"
   ]
  }
 ],
 "metadata": {
  "kernelspec": {
   "display_name": "Python 3 (ipykernel)",
   "language": "python",
   "name": "python3"
  },
  "language_info": {
   "codemirror_mode": {
    "name": "ipython",
    "version": 3
   },
   "file_extension": ".py",
   "mimetype": "text/x-python",
   "name": "python",
   "nbconvert_exporter": "python",
   "pygments_lexer": "ipython3",
   "version": "3.11.0"
  }
 },
 "nbformat": 4,
 "nbformat_minor": 4
}
